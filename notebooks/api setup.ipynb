{
 "cells": [
  {
   "cell_type": "code",
   "execution_count": 2,
   "metadata": {
    "colab": {
     "base_uri": "https://localhost:8080/"
    },
    "executionInfo": {
     "elapsed": 8059,
     "status": "ok",
     "timestamp": 1749662325535,
     "user": {
      "displayName": "SAANVI MALIK 23323035",
      "userId": "11267009863842570219"
     },
     "user_tz": -330
    },
    "id": "EsPPcpp3-foV",
    "outputId": "f3bcfd2b-5fc8-49cf-898e-0a71181cd95c"
   },
   "outputs": [
    {
     "name": "stdout",
     "output_type": "stream",
     "text": [
      "Collecting pyngrok\n",
      "  Downloading pyngrok-7.2.11-py3-none-any.whl.metadata (9.4 kB)\n",
      "Requirement already satisfied: PyYAML>=5.1 in /usr/local/lib/python3.11/dist-packages (from pyngrok) (6.0.2)\n",
      "Downloading pyngrok-7.2.11-py3-none-any.whl (25 kB)\n",
      "Installing collected packages: pyngrok\n",
      "Successfully installed pyngrok-7.2.11\n"
     ]
    }
   ],
   "source": [
    "!pip install pyngrok"
   ]
  },
  {
   "cell_type": "code",
   "execution_count": null,
   "metadata": {
    "colab": {
     "base_uri": "https://localhost:8080/"
    },
    "executionInfo": {
     "elapsed": 62,
     "status": "ok",
     "timestamp": 1749665248083,
     "user": {
      "displayName": "SAANVI MALIK 23323035",
      "userId": "11267009863842570219"
     },
     "user_tz": -330
    },
    "id": "F3vWDtWF1uJG",
    "outputId": "fe362c1a-a5dd-4e8d-be01-5af41b1e3309"
   },
   "outputs": [
    {
     "name": "stdout",
     "output_type": "stream",
     "text": [
      "Overwriting main.py\n"
     ]
    }
   ],
   "source": [
    "from fastapi import FastAPI\n",
    "from pydantic import BaseModel, conlist\n",
    "from typing import List\n",
    "import numpy as np\n",
    "import joblib\n",
    "import tensorflow as tf\n",
    "\n",
    "class Transaction(BaseModel):\n",
    "    features: conlist(float, min_items=25, max_items=25)\n",
    "\n",
    "app = FastAPI(\n",
    "    title=\"Credit Card Fraud Detection API\",\n",
    "    description=\"Autoencoder + Ensemble + Calibration\",\n",
    "    version=\"1.0\"\n",
    ")\n",
    "\n",
    "ae = None\n",
    "encoder = None\n",
    "scaler = None\n",
    "stack_model = None\n",
    "calibrator = None\n",
    "threshold = None \n",
    "\n",
    "@app.on_event(\"startup\")\n",
    "def load_models():\n",
    "    global ae, encoder, scaler, stack_model, calibrator, threshold\n",
    "    ae = tf.keras.models.load_model(\"/content/ae_model.keras\")\n",
    "    encoder = tf.keras.models.load_model(\"/content/encoder_model.keras\")\n",
    "    scaler = joblib.load(\"/content/scaler.pkl\")\n",
    "    stack_model = joblib.load(\"/content/stack_model.pkl\")\n",
    "    calibrator = joblib.load(\"/content/calibrator.pkl\")\n",
    "    threshold = 0.037  \n",
    "\n",
    "def extract_features(x_raw):\n",
    "    x_scaled = scaler.transform([x_raw])\n",
    "    x_reconstructed = ae.predict(x_scaled, batch_size=1)\n",
    "    reconstruction_error = np.mean(np.abs(x_scaled - x_reconstructed), axis=1).reshape(-1,1)\n",
    "    latent_features = encoder.predict(x_scaled, batch_size=1)\n",
    "    final_features = np.hstack([latent_features, reconstruction_error])\n",
    "    return final_features\n",
    "\n",
    "@app.post(\"/predict_fraud\")\n",
    "async def predict(transaction: Transaction):\n",
    "    try:\n",
    "        input_data = np.array(transaction.features)\n",
    "        features = extract_features(input_data)\n",
    "        prob = stack_model.predict_proba(features)[:,1]\n",
    "        calibrated = calibrator.predict_proba(prob.reshape(-1,1))[:,1]\n",
    "        is_fraud = int(calibrated[0] >= threshold)\n",
    "        return {\n",
    "            \"fraud_probability\": float(calibrated[0]),\n",
    "            \"is_fraud\": bool(is_fraud)\n",
    "        }\n",
    "    except Exception as e:\n",
    "        return {\"error\": str(e)}\n"
   ]
  },
  {
   "cell_type": "code",
   "execution_count": null,
   "metadata": {
    "colab": {
     "base_uri": "https://localhost:8080/"
    },
    "executionInfo": {
     "elapsed": 401581,
     "status": "ok",
     "timestamp": 1749665651155,
     "user": {
      "displayName": "SAANVI MALIK 23323035",
      "userId": "11267009863842570219"
     },
     "user_tz": -330
    },
    "id": "DwboWoFSvSjd",
    "outputId": "5c547df2-be30-408c-dbd4-92505f6749f7"
   },
   "outputs": [
    {
     "name": "stdout",
     "output_type": "stream",
     "text": [
      "Authtoken saved to configuration file: /root/.config/ngrok/ngrok.yml\n",
      "Public URL: https://a8b7-34-42-145-211.ngrok-free.app\n"
     ]
    },
    {
     "name": "stderr",
     "output_type": "stream",
     "text": [
      "INFO:     Started server process [167]\n",
      "INFO:     Waiting for application startup.\n",
      "INFO:     Application startup complete.\n",
      "INFO:     Uvicorn running on http://0.0.0.0:8000 (Press CTRL+C to quit)\n"
     ]
    },
    {
     "name": "stdout",
     "output_type": "stream",
     "text": [
      "INFO:     2409:40d6:1018:fd61:9862:171:b789:695a:0 - \"GET /dpcs HTTP/1.1\" 404 Not Found\n",
      "INFO:     2409:40d6:1018:fd61:9862:171:b789:695a:0 - \"GET /favicon.ico HTTP/1.1\" 404 Not Found\n",
      "INFO:     2409:40d6:1018:fd61:9862:171:b789:695a:0 - \"GET /docs HTTP/1.1\" 200 OK\n",
      "INFO:     2409:40d6:1018:fd61:9862:171:b789:695a:0 - \"GET /openapi.json HTTP/1.1\" 200 OK\n",
      "\u001b[1m1/1\u001b[0m \u001b[32m━━━━━━━━━━━━━━━━━━━━\u001b[0m\u001b[37m\u001b[0m \u001b[1m0s\u001b[0m 170ms/step\n",
      "\u001b[1m1/1\u001b[0m \u001b[32m━━━━━━━━━━━━━━━━━━━━\u001b[0m\u001b[37m\u001b[0m \u001b[1m0s\u001b[0m 102ms/step\n",
      "INFO:     2409:40d6:1018:fd61:9862:171:b789:695a:0 - \"POST /predict HTTP/1.1\" 200 OK\n"
     ]
    },
    {
     "name": "stderr",
     "output_type": "stream",
     "text": [
      "/usr/local/lib/python3.11/dist-packages/sklearn/utils/deprecation.py:151: FutureWarning: 'force_all_finite' was renamed to 'ensure_all_finite' in 1.6 and will be removed in 1.8.\n",
      "  warnings.warn(\n"
     ]
    },
    {
     "name": "stdout",
     "output_type": "stream",
     "text": [
      "\u001b[1m1/1\u001b[0m \u001b[32m━━━━━━━━━━━━━━━━━━━━\u001b[0m\u001b[37m\u001b[0m \u001b[1m0s\u001b[0m 43ms/step\n",
      "\u001b[1m1/1\u001b[0m \u001b[32m━━━━━━━━━━━━━━━━━━━━\u001b[0m\u001b[37m\u001b[0m \u001b[1m0s\u001b[0m 40ms/step\n",
      "INFO:     2409:40d6:1018:fd61:9862:171:b789:695a:0 - \"POST /predict HTTP/1.1\" 200 OK\n"
     ]
    },
    {
     "name": "stderr",
     "output_type": "stream",
     "text": [
      "/usr/local/lib/python3.11/dist-packages/sklearn/utils/deprecation.py:151: FutureWarning: 'force_all_finite' was renamed to 'ensure_all_finite' in 1.6 and will be removed in 1.8.\n",
      "  warnings.warn(\n",
      "INFO:     Shutting down\n",
      "INFO:     Waiting for application shutdown.\n",
      "INFO:     Application shutdown complete.\n",
      "INFO:     Finished server process [167]\n"
     ]
    }
   ],
   "source": [
    "from pyngrok import ngrok\n",
    "import nest_asyncio\n",
    "import uvicorn\n",
    "\n",
    "nest_asyncio.apply()\n",
    "!ngrok config add-authtoken <your-token>\n",
    "ngrok_tunnel = ngrok.connect(8000)\n",
    "print('Public URL:', ngrok_tunnel.public_url)\n",
    "\n",
    "uvicorn.run(\"main:app\", host=\"0.0.0.0\", port=8000)"
   ]
  }
 ],
 "metadata": {
  "colab": {
   "authorship_tag": "ABX9TyPrDfjERK0OV2iy705o9jrJ",
   "provenance": []
  },
  "kernelspec": {
   "display_name": "Python 3",
   "name": "python3"
  },
  "language_info": {
   "name": "python"
  }
 },
 "nbformat": 4,
 "nbformat_minor": 0
}
