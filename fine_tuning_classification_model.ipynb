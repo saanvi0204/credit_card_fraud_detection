{
  "nbformat": 4,
  "nbformat_minor": 0,
  "metadata": {
    "colab": {
      "provenance": [],
      "gpuType": "T4",
      "authorship_tag": "ABX9TyM0zmvizaGoOfoRxhxTBllk",
      "include_colab_link": true
    },
    "kernelspec": {
      "name": "python3",
      "display_name": "Python 3"
    },
    "language_info": {
      "name": "python"
    },
    "accelerator": "GPU"
  },
  "cells": [
    {
      "cell_type": "markdown",
      "metadata": {
        "id": "view-in-github",
        "colab_type": "text"
      },
      "source": [
        "<a href=\"https://colab.research.google.com/github/saanvi0204/credit_card_fraud_detection/blob/main/fine_tuning_classification_model.ipynb\" target=\"_parent\"><img src=\"https://colab.research.google.com/assets/colab-badge.svg\" alt=\"Open In Colab\"/></a>"
      ]
    },
    {
      "cell_type": "code",
      "source": [
        "from google.colab import drive\n",
        "drive.mount('/content/drive', force_remount=True)"
      ],
      "metadata": {
        "colab": {
          "base_uri": "https://localhost:8080/"
        },
        "id": "h0UACqksI4rD",
        "outputId": "16777fc9-d131-4d85-e62f-27cef0d1b164"
      },
      "execution_count": null,
      "outputs": [
        {
          "output_type": "stream",
          "name": "stdout",
          "text": [
            "Mounted at /content/drive\n"
          ]
        }
      ]
    },
    {
      "cell_type": "code",
      "execution_count": null,
      "metadata": {
        "id": "QMfxPGqmHLmp"
      },
      "outputs": [],
      "source": [
        "import os\n",
        "import csv\n",
        "import random\n",
        "import time\n",
        "import logging\n",
        "import warnings\n",
        "from pathlib import Path\n",
        "\n",
        "import numpy as np\n",
        "import pandas as pd\n",
        "import matplotlib.pyplot as plt\n",
        "import tensorflow as tf\n",
        "from tensorflow.keras.models import load_model, Model\n",
        "from sklearn.model_selection import StratifiedKFold, train_test_split, RandomizedSearchCV\n",
        "from sklearn.ensemble import RandomForestClassifier, StackingClassifier\n",
        "from sklearn.linear_model import LogisticRegression\n",
        "from sklearn.preprocessing import StandardScaler\n",
        "from sklearn.calibration import calibration_curve\n",
        "from sklearn.metrics import recall_score, accuracy_score, confusion_matrix, f1_score, matthews_corrcoef\n",
        "from lightgbm import LGBMClassifier\n",
        "\n",
        "# --- Setup ---\n",
        "warnings.filterwarnings('ignore')\n",
        "logging.basicConfig(level=logging.INFO,\n",
        "                    format='%(asctime)s %(levelname)s:%(message)s')\n",
        "logger = logging.getLogger(__name__)\n",
        "\n",
        "# Reproducibility\n",
        "RANDOM_STATE = 42\n",
        "np.random.seed(RANDOM_STATE)\n",
        "random.seed(RANDOM_STATE)\n",
        "tf.random.set_seed(RANDOM_STATE)"
      ]
    },
    {
      "cell_type": "code",
      "source": [
        "# Paths\n",
        "data_path = Path('/content/drive/MyDrive/Autoencoders/Credit card fraud detection/processed_df.csv')\n",
        "model_path = Path('/content/drive/MyDrive/Autoencoders/Credit card fraud detection/best_ae_model1.keras')\n",
        "log_csv = Path('/content/drive/MyDrive/Autoencoders/Credit card fraud detection/experiment_results.csv')\n",
        "\n",
        "# Validate paths\n",
        "assert data_path.exists(), f\"Data file not found: {data_path}\"\n",
        "assert model_path.exists(), f\"Model file not found: {model_path}\""
      ],
      "metadata": {
        "id": "6EuO244yHTdH"
      },
      "execution_count": null,
      "outputs": []
    },
    {
      "cell_type": "code",
      "source": [
        "logger.info(\"Loading data and autoencoder model...\")\n",
        "df = pd.read_csv(data_path)\n",
        "ae = load_model(model_path)\n",
        "encoder = Model(inputs=ae.input, outputs=ae.layers[1].output)"
      ],
      "metadata": {
        "id": "_LvjSC7vHWSa"
      },
      "execution_count": null,
      "outputs": []
    },
    {
      "cell_type": "code",
      "source": [
        "# Prepare raw features and labels\n",
        "y = df['Class'].values\n",
        "X_raw = df.drop('Class', axis=1).values\n",
        "\n",
        "# Global scaling\n",
        "scaler = StandardScaler().fit(X_raw)\n",
        "X_scaled = scaler.transform(X_raw)"
      ],
      "metadata": {
        "id": "qrYK2b-3Hc7K"
      },
      "execution_count": null,
      "outputs": []
    },
    {
      "cell_type": "code",
      "source": [
        "# Extract AE features + reconstruction error\n",
        "def extract_features(ae, enc, X):\n",
        "    pred = ae.predict(X, batch_size=1024)\n",
        "    error = np.mean(np.abs(X - pred), axis=1).reshape(-1,1)\n",
        "    latent = enc.predict(X, batch_size=1024)\n",
        "    return np.hstack([latent, error])\n",
        "\n",
        "X_feat = extract_features(ae, encoder, X_scaled)"
      ],
      "metadata": {
        "id": "WiA_j00BHgc8",
        "colab": {
          "base_uri": "https://localhost:8080/"
        },
        "outputId": "9e5708cd-7421-42e6-b71e-427c4de7d309"
      },
      "execution_count": null,
      "outputs": [
        {
          "output_type": "stream",
          "name": "stdout",
          "text": [
            "\u001b[1m279/279\u001b[0m \u001b[32m━━━━━━━━━━━━━━━━━━━━\u001b[0m\u001b[37m\u001b[0m \u001b[1m2s\u001b[0m 3ms/step\n",
            "\u001b[1m279/279\u001b[0m \u001b[32m━━━━━━━━━━━━━━━━━━━━\u001b[0m\u001b[37m\u001b[0m \u001b[1m1s\u001b[0m 2ms/step\n"
          ]
        }
      ]
    },
    {
      "cell_type": "code",
      "source": [
        "# Initialize CSV logger\n",
        "with open(log_csv, 'w', newline='') as f:\n",
        "    writer = csv.writer(f)\n",
        "    writer.writerow([\n",
        "        'fold',\n",
        "        'lgbm_best_params',\n",
        "        'rf_best_params',\n",
        "        'threshold',\n",
        "        'Accuracy', 'TPR', 'TNR', 'F1', 'MCC'\n",
        "    ])"
      ],
      "metadata": {
        "id": "bIqXW7KvHjkt"
      },
      "execution_count": null,
      "outputs": []
    },
    {
      "cell_type": "code",
      "source": [
        "skf = StratifiedKFold(n_splits=5, shuffle=True, random_state=RANDOM_STATE)\n",
        "\n",
        "for fold, (train_idx, test_idx) in enumerate(skf.split(X_feat, y), 1):\n",
        "    logger.info(f\"--- Fold {fold} ---\")\n",
        "    X_train_full, y_train_full = X_feat[train_idx], y[train_idx]\n",
        "    X_test, y_test = X_feat[test_idx], y[test_idx]\n",
        "\n",
        "    # Train/Calibration split\n",
        "    X_train, X_calib, y_train, y_calib = train_test_split(\n",
        "        X_train_full, y_train_full,\n",
        "        test_size=0.2, stratify=y_train_full,\n",
        "        random_state=RANDOM_STATE\n",
        "    )\n",
        "\n",
        "    # Hyperparameter tuning for LGBM\n",
        "    lgbm = LGBMClassifier(class_weight='balanced', random_state=RANDOM_STATE)\n",
        "    lgbm_param_dist = {\n",
        "        'num_leaves': [20, 30, 40],\n",
        "        'learning_rate': [0.05, 0.1, 0.2],\n",
        "        'n_estimators': [50, 100, 150]\n",
        "    }\n",
        "    lgbm_search = RandomizedSearchCV(\n",
        "        estimator=lgbm,\n",
        "        param_distributions=lgbm_param_dist,\n",
        "        n_iter=6,\n",
        "        scoring='matthews_corrcoef',\n",
        "        cv=3,\n",
        "        random_state=RANDOM_STATE,\n",
        "        n_jobs=-1\n",
        "    )\n",
        "    lgbm_search.fit(X_train, y_train)\n",
        "    best_lgbm = lgbm_search.best_estimator_\n",
        "    logger.info(f\"Fold {fold} LGBM best params: {lgbm_search.best_params_}\")\n",
        "\n",
        "    # Hyperparameter tuning for Random Forest\n",
        "    rf = RandomForestClassifier(class_weight='balanced', random_state=RANDOM_STATE)\n",
        "    rf_param_dist = {\n",
        "        'n_estimators': [50, 100, 150],\n",
        "        'max_depth': [None, 10, 20],\n",
        "        'min_samples_split': [2, 5]\n",
        "    }\n",
        "    rf_search = RandomizedSearchCV(\n",
        "        estimator=rf,\n",
        "        param_distributions=rf_param_dist,\n",
        "        n_iter=6,\n",
        "        scoring='matthews_corrcoef',\n",
        "        cv=3,\n",
        "        random_state=RANDOM_STATE,\n",
        "        n_jobs=-1\n",
        "    )\n",
        "    rf_search.fit(X_train, y_train)\n",
        "    best_rf = rf_search.best_estimator_\n",
        "    logger.info(f\"Fold {fold} RF best params: {rf_search.best_params_}\")\n",
        "\n",
        "    # Stacking classifier\n",
        "    stack = StackingClassifier(\n",
        "        estimators=[('lgbm', best_lgbm), ('rf', rf)],\n",
        "        final_estimator=LogisticRegression(),\n",
        "        cv=3,\n",
        "        n_jobs=-1,\n",
        "        passthrough=False\n",
        "    )\n",
        "    stack.fit(X_train, y_train)\n",
        "\n",
        "    # Calibration (Platt scaling)\n",
        "    prob_calib = stack.predict_proba(X_calib)[:,1]\n",
        "    calibrator = LogisticRegression().fit(prob_calib.reshape(-1,1), y_calib)\n",
        "\n",
        "    # Threshold tuning on calibration\n",
        "    thresholds = np.linspace(0,1,200)\n",
        "    mccs = [ matthews_corrcoef(y_calib, (prob_calib>=t).astype(int)) for t in thresholds ]\n",
        "    best_t = thresholds[np.argmax(mccs)]\n",
        "    logger.info(f\"Fold {fold} best threshold: {best_t:.3f}\")\n",
        "\n",
        "    # Evaluate on test\n",
        "    prob_test = stack.predict_proba(X_test)[:,1]\n",
        "    prob_test_cal = calibrator.predict_proba(prob_test.reshape(-1,1))[:,1]\n",
        "    y_pred = (prob_test_cal >= best_t).astype(int)\n",
        "\n",
        "    acc = accuracy_score(y_test, y_pred)\n",
        "    tpr = recall_score(y_test, y_pred)\n",
        "    tn, fp, fn, tp = confusion_matrix(y_test, y_pred).ravel()\n",
        "    tnr = tn/(tn+fp)\n",
        "    f1 = f1_score(y_test, y_pred)\n",
        "    mcc = matthews_corrcoef(y_test, y_pred)\n",
        "\n",
        "    # Log results\n",
        "    with open(log_csv, 'a', newline='') as f:\n",
        "        writer = csv.writer(f)\n",
        "        writer.writerow([\n",
        "            fold,\n",
        "            lgbm_search.best_params_,\n",
        "            rf_search.best_params_,\n",
        "            best_t,\n",
        "            acc, tpr, tnr, f1, mcc\n",
        "        ])\n",
        "\n",
        "    # Plot calibration curve for first fold\n",
        "    if fold == 1:\n",
        "        frac_pos, mean_pred = calibration_curve(y_calib, prob_calib, n_bins=10)\n",
        "        plt.figure(figsize=(6,4))\n",
        "        plt.plot(mean_pred, frac_pos, marker='o', label='Calibration (Fold 1)')\n",
        "        plt.plot([0,1],[0,1], linestyle='--', label='Ideal')\n",
        "        plt.xlabel('Mean Predicted Probability')\n",
        "        plt.ylabel('Fraction of Positives')\n",
        "        plt.title('Calibration Curve')\n",
        "        plt.legend()\n",
        "        plt.show()"
      ],
      "metadata": {
        "id": "HOoFXiKsH0M1",
        "colab": {
          "base_uri": "https://localhost:8080/",
          "height": 1000
        },
        "outputId": "79962f62-b497-4519-d209-58ac473d2ddd"
      },
      "execution_count": null,
      "outputs": [
        {
          "output_type": "stream",
          "name": "stdout",
          "text": [
            "[LightGBM] [Info] Number of positive: 314, number of negative: 181962\n",
            "[LightGBM] [Info] Auto-choosing col-wise multi-threading, the overhead of testing was 0.032382 seconds.\n",
            "You can set `force_col_wise=true` to remove the overhead.\n",
            "[LightGBM] [Info] Total Bins 4335\n",
            "[LightGBM] [Info] Number of data points in the train set: 182276, number of used features: 17\n",
            "[LightGBM] [Info] [binary:BoostFromScore]: pavg=0.500000 -> initscore=-0.000000\n",
            "[LightGBM] [Info] Start training from score -0.000000\n"
          ]
        },
        {
          "output_type": "display_data",
          "data": {
            "text/plain": [
              "<Figure size 600x400 with 1 Axes>"
            ],
            "image/png": "[encoded data removed]"
          },
          "metadata": {}
        },
        {
          "output_type": "stream",
          "name": "stdout",
          "text": [
            "[LightGBM] [Info] Number of positive: 314, number of negative: 181962\n",
            "[LightGBM] [Info] Auto-choosing col-wise multi-threading, the overhead of testing was 0.030233 seconds.\n",
            "You can set `force_col_wise=true` to remove the overhead.\n",
            "[LightGBM] [Info] Total Bins 4335\n",
            "[LightGBM] [Info] Number of data points in the train set: 182276, number of used features: 17\n",
            "[LightGBM] [Info] [binary:BoostFromScore]: pavg=0.500000 -> initscore=-0.000000\n",
            "[LightGBM] [Info] Start training from score -0.000000\n",
            "[LightGBM] [Info] Number of positive: 315, number of negative: 181961\n",
            "[LightGBM] [Info] Auto-choosing col-wise multi-threading, the overhead of testing was 0.054522 seconds.\n",
            "You can set `force_col_wise=true` to remove the overhead.\n",
            "[LightGBM] [Info] Total Bins 4335\n",
            "[LightGBM] [Info] Number of data points in the train set: 182276, number of used features: 17\n",
            "[LightGBM] [Info] [binary:BoostFromScore]: pavg=0.500000 -> initscore=0.000000\n",
            "[LightGBM] [Info] Start training from score 0.000000\n",
            "[LightGBM] [Info] Number of positive: 315, number of negative: 181961\n",
            "[LightGBM] [Info] Auto-choosing col-wise multi-threading, the overhead of testing was 0.029571 seconds.\n",
            "You can set `force_col_wise=true` to remove the overhead.\n",
            "[LightGBM] [Info] Total Bins 4335\n",
            "[LightGBM] [Info] Number of data points in the train set: 182276, number of used features: 17\n",
            "[LightGBM] [Info] [binary:BoostFromScore]: pavg=0.500000 -> initscore=0.000000\n",
            "[LightGBM] [Info] Start training from score 0.000000\n",
            "[LightGBM] [Info] Number of positive: 315, number of negative: 181961\n",
            "[LightGBM] [Info] Auto-choosing row-wise multi-threading, the overhead of testing was 0.008266 seconds.\n",
            "You can set `force_row_wise=true` to remove the overhead.\n",
            "And if memory is not enough, you can set `force_col_wise=true`.\n",
            "[LightGBM] [Info] Total Bins 4335\n",
            "[LightGBM] [Info] Number of data points in the train set: 182276, number of used features: 17\n",
            "[LightGBM] [Info] [binary:BoostFromScore]: pavg=0.500000 -> initscore=0.000000\n",
            "[LightGBM] [Info] Start training from score 0.000000\n"
          ]
        }
      ]
    },
    {
      "cell_type": "code",
      "source": [
        "logger.info(f\"Experiment results saved to {log_csv}\")"
      ],
      "metadata": {
        "id": "KSoqk7SQH3a0"
      },
      "execution_count": null,
      "outputs": []
    },
    {
      "cell_type": "code",
      "source": [
        "import joblib\n",
        "\n",
        "# After fitting `stack` and `calibrator` on your full training + calib data:\n",
        "joblib.dump(stack,  '/content/drive/MyDrive/Autoencoders/Credit card fraud detection/ccfd_stack_model.pkl')\n",
        "joblib.dump(calibrator, '/content/drive/MyDrive/Autoencoders/Credit card fraud detection/ccfd_calibrator.pkl')\n",
        "joblib.dump(scaler, '/content/drive/MyDrive/Autoencoders/Credit card fraud detection/ccfd_scaler.pkl')"
      ],
      "metadata": {
        "id": "M90tJJq0JBJn",
        "colab": {
          "base_uri": "https://localhost:8080/"
        },
        "outputId": "d4f94177-20b2-4d37-cb8c-424e5449e9eb"
      },
      "execution_count": null,
      "outputs": [
        {
          "output_type": "execute_result",
          "data": {
            "text/plain": [
              "['/content/drive/MyDrive/Autoencoders/Credit card fraud detection/ccfd_scaler.pkl']"
            ]
          },
          "metadata": {},
          "execution_count": 10
        }
      ]
    },
    {
      "cell_type": "code",
      "source": [],
      "metadata": {
        "id": "o7geWEVgO4DF"
      },
      "execution_count": null,
      "outputs": []
    }
  ]
}